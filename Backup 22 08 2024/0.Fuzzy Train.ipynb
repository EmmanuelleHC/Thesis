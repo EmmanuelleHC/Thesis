{
 "cells": [
  {
   "cell_type": "code",
   "execution_count": 1,
   "metadata": {},
   "outputs": [],
   "source": [
    "import pandas as pd\n",
    "from sklearn.model_selection import train_test_split\n",
    "import pandas as pd\n",
    "import numpy as np\n",
    "import pandas as pd\n",
    "import skfuzzy as fuzz\n",
    "import os\n",
    "from skfuzzy import control as ctrl\n",
    "import pandas as pd\n",
    "from sklearn.preprocessing import LabelEncoder, StandardScaler\n",
    "from sklearn.metrics import f1_score, precision_score, recall_score\n",
    "import numpy as np\n",
    "import os"
   ]
  },
  {
   "cell_type": "code",
   "execution_count": 2,
   "metadata": {},
   "outputs": [],
   "source": [
    "train_df = pd.read_csv('Thesis/train.csv')"
   ]
  },
  {
   "cell_type": "code",
   "execution_count": 5,
   "metadata": {},
   "outputs": [],
   "source": [
    "\n",
    "\n",
    "# Antecedents (inputs)\n",
    "cross_border = ctrl.Antecedent(np.arange(0, 2, 1), 'cross_border')\n",
    "country_risk = ctrl.Antecedent(np.arange(0, 2, 1), 'country_risk')\n",
    "pep_involvement = ctrl.Antecedent(np.arange(0, 2, 1), 'pep_involvement')\n",
    "transaction_type = ctrl.Antecedent(np.arange(0, 3, 1), 'transaction_type')  # Adjusted for clarity\n",
    "\n",
    "# Membership Functions for PEP Involvement (binary)\n",
    "pep_involvement['no'] = fuzz.trimf(pep_involvement.universe, [0, 0, 0.5])\n",
    "pep_involvement['yes'] = fuzz.trimf(pep_involvement.universe, [0.5, 1, 1])\n",
    "\n",
    "# Setup membership functions for other antecedents\n",
    "cross_border['low'] = fuzz.trimf(cross_border.universe, [0, 0, 1])\n",
    "cross_border['high'] = fuzz.trimf(cross_border.universe, [0, 1, 1])\n",
    "country_risk['low'] = fuzz.trimf(country_risk.universe, [0, 0, 1])\n",
    "country_risk['high'] = fuzz.trimf(country_risk.universe, [0, 1, 1])\n",
    "transaction_type['crypto_transfer'] = fuzz.trimf(transaction_type.universe, [0, 0, 1])\n",
    "transaction_type['payment'] = fuzz.trimf(transaction_type.universe, [1, 1, 2])\n",
    "transaction_type['other'] = fuzz.trimf(transaction_type.universe, [2, 2, 2])\n",
    "\n",
    "# Consequent (output)\n",
    "risk = ctrl.Consequent(np.arange(0, 101, 1), 'risk')\n",
    "risk['low'] = fuzz.trimf(risk.universe, [0, 0, 50])\n",
    "risk['medium'] = fuzz.trimf(risk.universe, [20, 50, 80])\n",
    "risk['high'] = fuzz.trimf(risk.universe, [60, 100, 100])\n",
    "\n",
    "# Rules\n",
    "rule1 = ctrl.Rule(transaction_type['crypto_transfer'] | transaction_type['payment'], risk['high'])\n",
    "rule2 = ctrl.Rule(pep_involvement['yes'] | country_risk['high'], risk['high'])\n",
    "rule3 = ctrl.Rule(cross_border['high'], risk['medium'])\n",
    "rule4 = ctrl.Rule(cross_border['low'] & transaction_type['other'], risk['low'])\n",
    "\n",
    "# Control system\n",
    "aml_control = ctrl.ControlSystem([rule1, rule2, rule3, rule4])\n",
    "aml_sim = ctrl.ControlSystemSimulation(aml_control)\n",
    "def evaluate_transaction(row):\n",
    "    if row['Transaction_Type'] in ['CRYPTO-TRANSFER', 'PAYMENT']:\n",
    "        transaction_type_value = 1\n",
    "    else:\n",
    "        transaction_type_value = 2\n",
    "\n",
    "    pep_involvement_value = 1 if row['Bene_Is_Pep'] or row['Sender_Is_Pep'] else 0\n",
    "\n",
    "    cross_border_value = 1 if row['Sender_Country'] != row['Bene_Country'] else 0\n",
    "\n",
    "    high_risk_countries = ['Iran', 'Syria', 'North-Korea']\n",
    "    country_risk_value = 1 if row['Bene_Country'] in high_risk_countries else 0\n",
    "\n",
    "    aml_sim.input['transaction_type'] = transaction_type_value\n",
    "    aml_sim.input['pep_involvement'] = pep_involvement_value\n",
    "    aml_sim.input['cross_border'] = cross_border_value\n",
    "    aml_sim.input['country_risk'] = country_risk_value\n",
    "\n",
    "    aml_sim.compute()\n",
    "    risk_score = aml_sim.output['risk']\n",
    "    reasons = []\n",
    "\n",
    "    # Evaluate the reasons for the risk score\n",
    "    if transaction_type_value == 1:\n",
    "        reasons.append(\"High-risk transaction type (crypto or payment)\")\n",
    "    if pep_involvement_value == 1:\n",
    "        reasons.append(\"PEP involvement in transaction\")\n",
    "    if cross_border_value == 1:\n",
    "        reasons.append(\"Cross-border transaction\")\n",
    "    if country_risk_value == 1:\n",
    "        reasons.append(\"Transaction involves high-risk country\")\n",
    "    risk_score = aml_sim.output['risk']\n",
    "    return risk_score,reasons\n",
    "\n",
    "\n",
    "train_df['risk_score'], train_df['fuzzy_result'] = zip(*train_df.apply(evaluate_transaction, axis=1))\n",
    "train_df['fuzzy_result'] = train_df['fuzzy_result'].apply(\n",
    "    lambda x: 'None' if isinstance(x, list) and not x else x if isinstance(x, list) else str(x)\n",
    ")"
   ]
  },
  {
   "cell_type": "code",
   "execution_count": 6,
   "metadata": {},
   "outputs": [],
   "source": [
    "train_df.to_csv('Thesis/train_with_fuzzy_results2.csv', index=False)"
   ]
  },
  {
   "cell_type": "code",
   "execution_count": null,
   "metadata": {},
   "outputs": [],
   "source": []
  }
 ],
 "metadata": {
  "kernelspec": {
   "display_name": "Python 3",
   "language": "python",
   "name": "python3"
  },
  "language_info": {
   "codemirror_mode": {
    "name": "ipython",
    "version": 3
   },
   "file_extension": ".py",
   "mimetype": "text/x-python",
   "name": "python",
   "nbconvert_exporter": "python",
   "pygments_lexer": "ipython3",
   "version": "3.6.9"
  }
 },
 "nbformat": 4,
 "nbformat_minor": 4
}
