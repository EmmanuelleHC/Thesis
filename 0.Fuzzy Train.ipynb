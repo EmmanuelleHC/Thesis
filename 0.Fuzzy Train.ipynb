{
 "cells": [
  {
   "cell_type": "code",
   "execution_count": 3,
   "metadata": {},
   "outputs": [],
   "source": [
    "import pandas as pd\n",
    "from sklearn.model_selection import train_test_split\n",
    "import pandas as pd\n",
    "import numpy as np\n",
    "import pandas as pd\n",
    "import skfuzzy as fuzz\n",
    "import os\n",
    "from skfuzzy import control as ctrl\n",
    "import pandas as pd\n",
    "from sklearn.preprocessing import LabelEncoder, StandardScaler\n",
    "from sklearn.metrics import f1_score, precision_score, recall_score\n",
    "import numpy as np\n",
    "import os"
   ]
  },
  {
   "cell_type": "code",
   "execution_count": 2,
   "metadata": {},
   "outputs": [],
   "source": [
    "train_df = pd.read_csv('Thesis/train.csv')"
   ]
  },
  {
   "cell_type": "code",
   "execution_count": 4,
   "metadata": {},
   "outputs": [
    {
     "name": "stderr",
     "output_type": "stream",
     "text": [
      "/usr/local/lib/python3.6/dist-packages/numpy/core/_asarray.py:83: VisibleDeprecationWarning: Creating an ndarray from ragged nested sequences (which is a list-or-tuple of lists-or-tuples-or ndarrays with different lengths or shapes) is deprecated. If you meant to do this, you must specify 'dtype=object' when creating the ndarray\n",
      "  return array(a, dtype, copy=False, order=order)\n"
     ]
    }
   ],
   "source": [
    "amount = ctrl.Antecedent(np.arange(0, 10000, 1000), 'amount')\n",
    "cross_border = ctrl.Antecedent(np.arange(0, 2, 1), 'cross_border')\n",
    "country_risk = ctrl.Antecedent(np.arange(0, 2, 1), 'country_risk')  # For country risk like Iran, Syria, North Korea\n",
    "pep_involvement = ctrl.Antecedent(np.arange(0, 2, 1), 'pep_involvement')\n",
    "transaction_type = ctrl.Antecedent(np.arange(0, 3, 1), 'transaction_type')  # 0: domestic, 1: international, 2: digital\n",
    "\n",
    "risk = ctrl.Consequent(np.arange(0, 101, 1), 'risk')\n",
    "\n",
    "# Membership Functions\n",
    "amount.automf(3, names=['low', 'medium', 'high'])\n",
    "cross_border['domestic'] = fuzz.trimf(cross_border.universe, [0, 0, 0.5])\n",
    "cross_border['international'] = fuzz.trimf(cross_border.universe, [0.5, 1, 1])\n",
    "\n",
    "country_risk['low'] = fuzz.trimf(country_risk.universe, [0, 0, 0.5])\n",
    "country_risk['high'w] = fuzz.trimf(country_risk.universe, [0.5, 1, 1])\n",
    "\n",
    "pep_involvement['non_pep'] = fuzz.trimf(pep_involvement.universe, [0, 0, 0.5])\n",
    "pep_involvement['pep'] = fuzz.trimf(pep_involvement.universe, [0.5, 1, 1])\n",
    "\n",
    "transaction_type['domestic'] = fuzz.trimf(transaction_type.universe, [0, 0, 0.5])\n",
    "transaction_type['international'] = fuzz.trimf(transaction_type.universe, [0.5, 1, 1.5])\n",
    "transaction_type['digital'] = fuzz.trimf(transaction_type.universe, [1.5, 2, 2])\n",
    "\n",
    "risk['low'] = fuzz.trimf(risk.universe, [0, 0, 50])\n",
    "risk['medium'] = fuzz.trimf(risk.universe, [20, 50, 80])\n",
    "risk['high'] = fuzz.trimf(risk.universe, [60, 100, 100])\n",
    "\n",
    "# Fuzzy rules\n",
    "rule1 = ctrl.Rule(amount['high'] | cross_border['international'], risk['high'])\n",
    "rule2 = ctrl.Rule(amount['medium'] & cross_border['domestic'], risk['medium'])\n",
    "rule3 = ctrl.Rule(amount['low'] & (cross_border['domestic'] | cross_border['international']), risk['low'])\n",
    "rule4 = ctrl.Rule(country_risk['high'], risk['high'])\n",
    "rule5 = ctrl.Rule(pep_involvement['pep'], risk['high'])\n",
    "rule6 = ctrl.Rule(transaction_type['digital'], risk['medium'])\n",
    "rule7 = ctrl.Rule(transaction_type['international'], risk['high'])\n",
    "\n",
    "# Control system setup\n",
    "aml_control = ctrl.ControlSystem([rule1, rule2, rule3, rule4, rule5, rule6, rule7])\n",
    "aml_sim = ctrl.ControlSystemSimulation(aml_control)\n",
    "\n",
    "# Function to apply fuzzy system to each transaction\n",
    "def evaluate_transaction(row):\n",
    "    reasons = []\n",
    "\n",
    "    # Determine the transaction type\n",
    "    if row['Transaction_Type'] in ['digital', 'CRYPTO-TRANSFER', 'PAYMENT']:\n",
    "        transaction_type_value = 2\n",
    "    elif row['Transaction_Type'] == 'international':\n",
    "        transaction_type_value = 1\n",
    "    else:\n",
    "        transaction_type_value = 0\n",
    "\n",
    "    # Determine PEP involvement\n",
    "    pep_involvement_value = 1 if row['Bene_Is_Pep'] or row['Sender_Is_Pep'] else 0\n",
    "\n",
    "    aml_sim.inputs({\n",
    "        'amount': row['USD_Amount'],\n",
    "        'cross_border': 1 if row['Sender_Country'] != row['Bene_Country'] else 0,\n",
    "        'country_risk': 1 if row['Bene_Country'] in ['Iran', 'Syria', 'North-Korea'] else 0,\n",
    "        'pep_involvement': pep_involvement_value,\n",
    "        'transaction_type': transaction_type_value\n",
    "    })\n",
    "\n",
    "    try:\n",
    "        # Compute risk score\n",
    "        aml_sim.compute()\n",
    "        risk_score = aml_sim.output['risk']\n",
    "        if risk_score >= 60:  # Assuming 60 as the threshold for high risk\n",
    "            if row['USD_Amount'] >= amount.universe.max():\n",
    "                reasons.append(\"High Amount\")\n",
    "            if 1 if row['Sender_Country'] != row['Bene_Country'] else 0 == 1:\n",
    "                reasons.append(\"Cross Border Transaction\")\n",
    "            if 1 if row['Bene_Country'] in ['Iran', 'Syria', 'North-Korea'] else 0 == 1:\n",
    "                reasons.append(\"High Risk Country\")\n",
    "            if pep_involvement_value == 1:\n",
    "                reasons.append(\"PEP Involvement\")\n",
    "            if transaction_type_value == 2:\n",
    "                reasons.append(\"Digital Transaction\")\n",
    "        return risk_score, reasons\n",
    "    except Exception as e:\n",
    "        print(f\"Error during risk evaluation: {e}\")\n",
    "        return np.nan, reasons  # Return NaN if an error occurs (no rules fired)\n",
    "\n",
    "train_df['risk_score'], train_df['fuzzy_result'] = zip(*train_df.apply(evaluate_transaction, axis=1))\n",
    "train_df['fuzzy_result'] = train_df['fuzzy_result'].apply(\n",
    "    lambda x: 'None' if isinstance(x, list) and not x else x if isinstance(x, list) else str(x)\n",
    ")"
   ]
  },
  {
   "cell_type": "code",
   "execution_count": 5,
   "metadata": {},
   "outputs": [],
   "source": [
    "train_df.to_csv('Thesis/train_with_fuzzy_results.csv', index=False)"
   ]
  }
 ],
 "metadata": {
  "kernelspec": {
   "display_name": "Python 3",
   "language": "python",
   "name": "python3"
  },
  "language_info": {
   "codemirror_mode": {
    "name": "ipython",
    "version": 3
   },
   "file_extension": ".py",
   "mimetype": "text/x-python",
   "name": "python",
   "nbconvert_exporter": "python",
   "pygments_lexer": "ipython3",
   "version": "3.6.9"
  }
 },
 "nbformat": 4,
 "nbformat_minor": 4
}
