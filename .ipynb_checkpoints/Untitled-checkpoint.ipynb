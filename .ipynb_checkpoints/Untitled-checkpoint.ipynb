{
 "cells": [
  {
   "cell_type": "code",
   "execution_count": 1,
   "id": "f2d56d98",
   "metadata": {},
   "outputs": [
    {
     "name": "stdout",
     "output_type": "stream",
     "text": [
      "Collecting confluent-kafka\n",
      "  Obtaining dependency information for confluent-kafka from https://files.pythonhosted.org/packages/f8/c5/0b0ff9853aff7d839e9dc5569d435c558f9c58426ca17f85a7303c6f0968/confluent_kafka-2.5.0-cp311-cp311-win_amd64.whl.metadata\n",
      "  Downloading confluent_kafka-2.5.0-cp311-cp311-win_amd64.whl.metadata (2.4 kB)\n",
      "Downloading confluent_kafka-2.5.0-cp311-cp311-win_amd64.whl (3.5 MB)\n",
      "   ---------------------------------------- 0.0/3.5 MB ? eta -:--:--\n",
      "   ---------------------------------------- 0.0/3.5 MB ? eta -:--:--\n",
      "   - -------------------------------------- 0.1/3.5 MB 1.1 MB/s eta 0:00:04\n",
      "   -- ------------------------------------- 0.2/3.5 MB 1.7 MB/s eta 0:00:02\n",
      "   ---- ----------------------------------- 0.4/3.5 MB 2.6 MB/s eta 0:00:02\n",
      "   ----- ---------------------------------- 0.5/3.5 MB 2.4 MB/s eta 0:00:02\n",
      "   -------- ------------------------------- 0.8/3.5 MB 3.0 MB/s eta 0:00:01\n",
      "   --------- ------------------------------ 0.9/3.5 MB 3.1 MB/s eta 0:00:01\n",
      "   ----------- ---------------------------- 1.0/3.5 MB 3.2 MB/s eta 0:00:01\n",
      "   ----------- ---------------------------- 1.0/3.5 MB 3.2 MB/s eta 0:00:01\n",
      "   ----------- ---------------------------- 1.0/3.5 MB 3.2 MB/s eta 0:00:01\n",
      "   ----------- ---------------------------- 1.0/3.5 MB 3.2 MB/s eta 0:00:01\n",
      "   ------------ --------------------------- 1.1/3.5 MB 2.1 MB/s eta 0:00:02\n",
      "   -------------- ------------------------- 1.3/3.5 MB 2.3 MB/s eta 0:00:02\n",
      "   ---------------- ----------------------- 1.5/3.5 MB 2.4 MB/s eta 0:00:01\n",
      "   ------------------ --------------------- 1.6/3.5 MB 2.5 MB/s eta 0:00:01\n",
      "   ------------------- -------------------- 1.8/3.5 MB 2.6 MB/s eta 0:00:01\n",
      "   --------------------- ------------------ 1.9/3.5 MB 2.6 MB/s eta 0:00:01\n",
      "   ----------------------- ---------------- 2.0/3.5 MB 2.7 MB/s eta 0:00:01\n",
      "   ----------------------- ---------------- 2.1/3.5 MB 2.7 MB/s eta 0:00:01\n",
      "   ----------------------- ---------------- 2.1/3.5 MB 2.7 MB/s eta 0:00:01\n",
      "   ----------------------- ---------------- 2.1/3.5 MB 2.7 MB/s eta 0:00:01\n",
      "   ----------------------- ---------------- 2.1/3.5 MB 2.7 MB/s eta 0:00:01\n",
      "   ----------------------- ---------------- 2.1/3.5 MB 2.7 MB/s eta 0:00:01\n",
      "   ----------------------- ---------------- 2.1/3.5 MB 2.1 MB/s eta 0:00:01\n",
      "   ------------------------- -------------- 2.3/3.5 MB 2.1 MB/s eta 0:00:01\n",
      "   ---------------------------- ----------- 2.5/3.5 MB 2.3 MB/s eta 0:00:01\n",
      "   ------------------------------- -------- 2.8/3.5 MB 2.4 MB/s eta 0:00:01\n",
      "   ---------------------------------- ----- 3.0/3.5 MB 2.5 MB/s eta 0:00:01\n",
      "   ----------------------------------- ---- 3.1/3.5 MB 2.5 MB/s eta 0:00:01\n",
      "   ----------------------------------- ---- 3.1/3.5 MB 2.5 MB/s eta 0:00:01\n",
      "   ----------------------------------- ---- 3.1/3.5 MB 2.5 MB/s eta 0:00:01\n",
      "   ----------------------------------- ---- 3.1/3.5 MB 2.5 MB/s eta 0:00:01\n",
      "   ----------------------------------- ---- 3.2/3.5 MB 2.2 MB/s eta 0:00:01\n",
      "   ------------------------------------- -- 3.4/3.5 MB 2.3 MB/s eta 0:00:01\n",
      "   ---------------------------------------  3.5/3.5 MB 2.3 MB/s eta 0:00:01\n",
      "   ---------------------------------------- 3.5/3.5 MB 2.3 MB/s eta 0:00:00\n",
      "Installing collected packages: confluent-kafka\n",
      "Successfully installed confluent-kafka-2.5.0\n"
     ]
    }
   ],
   "source": [
    "!pip install confluent-kafka\n"
   ]
  },
  {
   "cell_type": "code",
   "execution_count": 3,
   "id": "721aaf05",
   "metadata": {},
   "outputs": [
    {
     "name": "stderr",
     "output_type": "stream",
     "text": [
      "2024-08-10 14:10:38,567 INFO Sending message: Hello World! #0\n",
      "2024-08-10 14:10:39,076 INFO Sending message: Hello World! #1\n",
      "2024-08-10 14:10:39,585 INFO Sending message: Hello World! #2\n",
      "2024-08-10 14:10:40,096 INFO Sending message: Hello World! #3\n",
      "2024-08-10 14:10:40,588 INFO Sending message: Hello World! #4\n",
      "2024-08-10 14:10:41,097 INFO Sending message: Hello World! #5\n",
      "2024-08-10 14:10:41,609 INFO Sending message: Hello World! #6\n",
      "2024-08-10 14:10:42,126 INFO Sending message: Hello World! #7\n",
      "2024-08-10 14:10:42,634 INFO Sending message: Hello World! #8\n",
      "2024-08-10 14:10:43,146 INFO Sending message: Hello World! #9\n",
      "2024-08-10 14:10:43,575 INFO Flushing remaining messages.\n"
     ]
    },
    {
     "ename": "KeyboardInterrupt",
     "evalue": "",
     "output_type": "error",
     "traceback": [
      "\u001b[1;31m---------------------------------------------------------------------------\u001b[0m",
      "\u001b[1;31mKeyboardInterrupt\u001b[0m                         Traceback (most recent call last)",
      "Cell \u001b[1;32mIn[3], line 30\u001b[0m\n\u001b[0;32m     27\u001b[0m \u001b[38;5;28;01mfinally\u001b[39;00m:\n\u001b[0;32m     28\u001b[0m     \u001b[38;5;66;03m# Wait for any outstanding messages to be delivered and report delivery statistics\u001b[39;00m\n\u001b[0;32m     29\u001b[0m     logging\u001b[38;5;241m.\u001b[39minfo(\u001b[38;5;124m\"\u001b[39m\u001b[38;5;124mFlushing remaining messages.\u001b[39m\u001b[38;5;124m\"\u001b[39m)\n\u001b[1;32m---> 30\u001b[0m     p\u001b[38;5;241m.\u001b[39mflush(\u001b[38;5;241m30\u001b[39m)\n\u001b[0;32m     31\u001b[0m     logging\u001b[38;5;241m.\u001b[39minfo(\u001b[38;5;124m\"\u001b[39m\u001b[38;5;124mFlush complete.\u001b[39m\u001b[38;5;124m\"\u001b[39m)\n",
      "\u001b[1;31mKeyboardInterrupt\u001b[0m: "
     ]
    }
   ],
   "source": [
    "from confluent_kafka import Producer\n",
    "import logging\n",
    "\n",
    "# Setup basic configuration for logging\n",
    "logging.basicConfig(level=logging.INFO, format='%(asctime)s %(levelname)s %(message)s')\n",
    "\n",
    "def acked(err, msg):\n",
    "    \"\"\"Custom callback to capture delivery reports.\"\"\"\n",
    "    if err is not None:\n",
    "        logging.error(f\"Failed to deliver message {msg.value().decode('utf-8')}: {err}\")\n",
    "    else:\n",
    "        logging.info(f\"Message produced: {msg.value().decode('utf-8')}\")\n",
    "\n",
    "# Configuration for the Producer\n",
    "p = Producer({'bootstrap.servers': '127.0.0.1:9093'})\n",
    "\n",
    "try:\n",
    "    for i in range(10):\n",
    "        message = f'Hello World! #{i}'\n",
    "        logging.info(f\"Sending message: {message}\")\n",
    "        # Send the message and apply the callback function `acked`\n",
    "        p.produce('topic-a', key=str(i), value=message, callback=acked)\n",
    "        # Poll to process delivery callbacks\n",
    "        p.poll(0.5)\n",
    "except KeyboardInterrupt:\n",
    "    logging.info(\"Producer interrupted by user.\")\n",
    "finally:\n",
    "    # Wait for any outstanding messages to be delivered and report delivery statistics\n",
    "    logging.info(\"Flushing remaining messages.\")\n",
    "    p.flush(30)\n",
    "    logging.info(\"Flush complete.\")\n"
   ]
  },
  {
   "cell_type": "code",
   "execution_count": null,
   "id": "35461bc9",
   "metadata": {},
   "outputs": [],
   "source": []
  }
 ],
 "metadata": {
  "kernelspec": {
   "display_name": "Python 3 (ipykernel)",
   "language": "python",
   "name": "python3"
  },
  "language_info": {
   "codemirror_mode": {
    "name": "ipython",
    "version": 3
   },
   "file_extension": ".py",
   "mimetype": "text/x-python",
   "name": "python",
   "nbconvert_exporter": "python",
   "pygments_lexer": "ipython3",
   "version": "3.11.5"
  }
 },
 "nbformat": 4,
 "nbformat_minor": 5
}
